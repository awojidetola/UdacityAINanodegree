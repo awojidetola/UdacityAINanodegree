{
 "cells": [
  {
   "cell_type": "markdown",
   "metadata": {
    "grader_id": "7lekqvk4x7p"
   },
   "source": [
    "> For solutions, check out the **arithmetic-operators-solution.ipynb** notebook in the current workspace. \n",
    "\n",
    "\n",
    "# Quiz 1: Electricity bills \n",
    "\n",
    "My electricity bills for the last three months have been `$23`, `$32` and `$64`. What is my average monthly electricity bill over the three month period? \n",
    "\n",
    "Write an expression to calculate the mean,"
   ]
  },
  {
   "cell_type": "code",
   "execution_count": 6,
   "metadata": {
    "grader_id": "v4enmhmoylc"
   },
   "outputs": [
    {
     "name": "stdout",
     "output_type": "stream",
     "text": [
      "76.33333333333333\n"
     ]
    }
   ],
   "source": [
    "# Calculate the average of my utility bills for the past three months.\n",
    "avg = 23+32+64/3 #replace `None` with your code\n",
    "print(avg)\n"
   ]
  },
  {
   "cell_type": "markdown",
   "metadata": {
    "grader_id": "4flfl933k86"
   },
   "source": [
    "# Quiz 2: Tiles\n",
    "\n",
    "In this quiz you're going to do some calculations for a tiler. Two parts of a floor need tiling. One part is **9 tiles wide by 7 tiles long**, the other is **5 tiles wide by 7 tiles long**. Tiles come in packages of 6.\n",
    "\n",
    "1. How many tiles are needed? \n",
    "2. You buy **17 packages of tiles containing 6 tiles each**. How many tiles will be left over?"
   ]
  },
  {
   "cell_type": "code",
   "execution_count": 1,
   "metadata": {
    "grader_id": "3uo62imjkg5"
   },
   "outputs": [
    {
     "name": "stdout",
     "output_type": "stream",
     "text": [
      "63\n"
     ]
    }
   ],
   "source": [
    "tiles = 9*7 #replace `None` with your code\n",
    "print(tiles)\n"
   ]
  },
  {
   "cell_type": "code",
   "execution_count": 5,
   "metadata": {
    "grader_id": "y2n38ejuu8"
   },
   "outputs": [
    {
     "name": "stdout",
     "output_type": "stream",
     "text": [
      "39\n"
     ]
    }
   ],
   "source": [
    "leftover_tiles = (17*6) - tiles #replace `None` with your code\n",
    "print(leftover_tiles)\n",
    "\n"
   ]
  }
 ],
 "metadata": {
  "kernelspec": {
   "display_name": "Python 3",
   "language": "python",
   "name": "python3"
  },
  "language_info": {
   "codemirror_mode": {
    "name": "ipython",
    "version": 3
   },
   "file_extension": ".py",
   "mimetype": "text/x-python",
   "name": "python",
   "nbconvert_exporter": "python",
   "pygments_lexer": "ipython3",
   "version": "3.6.3"
  }
 },
 "nbformat": 4,
 "nbformat_minor": 2
}
